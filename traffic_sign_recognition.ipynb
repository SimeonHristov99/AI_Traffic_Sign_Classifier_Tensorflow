{
  "nbformat": 4,
  "nbformat_minor": 0,
  "metadata": {
    "colab": {
      "name": "traffic_sign_recognition.ipynb",
      "provenance": [],
      "collapsed_sections": [],
      "authorship_tag": "ABX9TyPynG1EJcpbbhYatLMy0DR/",
      "include_colab_link": true
    },
    "kernelspec": {
      "name": "python3",
      "display_name": "Python 3"
    },
    "language_info": {
      "name": "python"
    },
    "accelerator": "GPU"
  },
  "cells": [
    {
      "cell_type": "markdown",
      "metadata": {
        "id": "view-in-github",
        "colab_type": "text"
      },
      "source": [
        "<a href=\"https://colab.research.google.com/github/SimeonHristov99/AI_Traffic_Sign_Classifier_Tensorflow/blob/main/traffic_sign_recognition.ipynb\" target=\"_parent\"><img src=\"https://colab.research.google.com/assets/colab-badge.svg\" alt=\"Open In Colab\"/></a>"
      ]
    },
    {
      "cell_type": "markdown",
      "metadata": {
        "id": "K9GWMkF2TU1H"
      },
      "source": [
        "# Description\n",
        "\n",
        "## Traffic Sign Classifier\n",
        "\n",
        "### The goal of this project is to build and train a traffic sign classifier. Results were generated in the context of the second  stage  of  the [GTSRB - German Traffic Sign Recognition Benchmark](https://www.kaggle.com/meowmeowmeowmeowmeow/gtsrb-german-traffic-sign) dataset. The classifier is a convolutional neural network and is implemented using the deep learning framework [Keras](https://keras.io/) from the [TensorFlow](https://www.tensorflow.org/) library.\n",
        "\n",
        "### Inspired by:\n",
        "- [CNN Design for Real-Time Traffic Sign Recognition](https://www.sciencedirect.com/science/article/pii/S1877705817341231)\n",
        "- [Man vs. computer: benchmarking machine learning algorithms for traffic sign recognition](https://christian-igel.github.io/paper/MvCBMLAfTSR.pdf)"
      ]
    },
    {
      "cell_type": "code",
      "metadata": {
        "id": "rbMdo5NMTtOv"
      },
      "source": [
        "import tensorflow as tf\n",
        "from tensorflow import keras\n",
        "from tensorflow.keras.preprocessing.image import ImageDataGenerator\n",
        "import matplotlib.pyplot as plt\n",
        "import pandas as pd\n",
        "import numpy as np"
      ],
      "execution_count": 87,
      "outputs": []
    },
    {
      "cell_type": "markdown",
      "metadata": {
        "id": "yTdt9MMEWPcF"
      },
      "source": [
        "# Loading data"
      ]
    },
    {
      "cell_type": "code",
      "metadata": {
        "id": "ToE-eIenanr-"
      },
      "source": [
        "# # # Run one time only. Requires Kaggle API access key to download the dataset.\n",
        "# !pip install -q kaggle\n",
        "\n",
        "# import os\n",
        "# from google.colab import drive\n",
        "\n",
        "# drive.mount('/gdrive')\n",
        "\n",
        "# assert os.getcwd() == '/content'\n",
        "\n",
        "# os.environ['KAGGLE_CONFIG_DIR'] = '../gdrive/MyDrive/kaggle'\n",
        "\n",
        "# !kaggle datasets download meowmeowmeowmeowmeow/gtsrb-german-traffic-sign -p /content/data/ --unzip"
      ],
      "execution_count": 88,
      "outputs": []
    },
    {
      "cell_type": "code",
      "metadata": {
        "id": "Tg2Fxe4NhRCA"
      },
      "source": [
        "traindf = pd.read_csv('/content/data/Train.csv',dtype=str)"
      ],
      "execution_count": 89,
      "outputs": []
    },
    {
      "cell_type": "code",
      "metadata": {
        "colab": {
          "base_uri": "https://localhost:8080/"
        },
        "id": "uB_Odppwki98",
        "outputId": "d1396fd0-0a05-4dba-d517-7bf148f2e284"
      },
      "source": [
        "BATCH_SIZE = 32\n",
        "IM_SIZE = 32\n",
        "CLASSES = 43\n",
        "TRAIN_DATA_DIR = '/content/data'\n",
        "\n",
        "train_datagen = ImageDataGenerator(\n",
        "    preprocessing_function=tf.image.rgb_to_grayscale,\n",
        "    validation_split=0.2, # set validation split tf.keras.applications.vgg16.preprocess_input,\n",
        "    rescale=1./255.\n",
        ")\n",
        "\n",
        "train_generator = train_datagen.flow_from_dataframe(\n",
        "    dataframe=traindf,\n",
        "    directory=TRAIN_DATA_DIR,\n",
        "    x_col='Path',\n",
        "    y_col='ClassId',\n",
        "    seed=42,\n",
        "    batch_size=BATCH_SIZE,\n",
        "    subset='training', # set as training data\n",
        "    target_size=(IM_SIZE, IM_SIZE)\n",
        ")\n",
        "\n",
        "val_generator = train_datagen.flow_from_dataframe(\n",
        "    dataframe=traindf,\n",
        "    directory=TRAIN_DATA_DIR,\n",
        "    x_col='Path',\n",
        "    y_col='ClassId',\n",
        "    seed=42,\n",
        "    batch_size=BATCH_SIZE,\n",
        "    subset='validation', # set as training data\n",
        "    target_size=(IM_SIZE, IM_SIZE)\n",
        ")\n",
        "\n",
        "print(f'{len(train_generator)} training batches. Each with {train_generator[0][0].shape[0]} images.')\n",
        "print(f'{len(val_generator)} validation batches. Each with {val_generator[0][0].shape[0]} images.')"
      ],
      "execution_count": 90,
      "outputs": [
        {
          "output_type": "stream",
          "text": [
            "Found 31368 validated image filenames belonging to 43 classes.\n",
            "Found 7841 validated image filenames belonging to 43 classes.\n",
            "981 training batches. Each with 32 images.\n",
            "246 validation batches. Each with 32 images.\n"
          ],
          "name": "stdout"
        }
      ]
    },
    {
      "cell_type": "markdown",
      "metadata": {
        "id": "GJV4X9vRT56l"
      },
      "source": [
        "# Visualizing data"
      ]
    },
    {
      "cell_type": "code",
      "metadata": {
        "colab": {
          "base_uri": "https://localhost:8080/"
        },
        "id": "dx5iSL8zzifO",
        "outputId": "0c58395b-4d0b-4501-9eb1-8bc0a448e40e"
      },
      "source": [
        "X_train_batch, y_train_batch = next(train_generator)\n",
        "X_val_batch, y_val_batch = next(val_generator)\n",
        "\n",
        "print(type(X_train_batch), X_train_batch.shape, type(y_train_batch), y_train_batch.shape)\n",
        "print(type(X_val_batch), X_val_batch.shape, type(y_val_batch), y_val_batch.shape)"
      ],
      "execution_count": 91,
      "outputs": [
        {
          "output_type": "stream",
          "text": [
            "<class 'numpy.ndarray'> (32, 32, 32, 3) <class 'numpy.ndarray'> (32, 43)\n",
            "<class 'numpy.ndarray'> (32, 32, 32, 3) <class 'numpy.ndarray'> (32, 43)\n"
          ],
          "name": "stdout"
        }
      ]
    },
    {
      "cell_type": "code",
      "metadata": {
        "colab": {
          "base_uri": "https://localhost:8080/",
          "height": 223
        },
        "id": "v44C0iURoBFK",
        "outputId": "17f7997f-fd0f-473a-ac0d-23a434947852"
      },
      "source": [
        "for i in range(10):\n",
        "  plt.subplot(2, 5, i + 1)\n",
        "\n",
        "  rand_idx = np.random.randint(X_train_batch.shape[0])\n",
        "  image = X_train_batch[rand_idx]\n",
        "  \n",
        "  plt.imshow(image)\n",
        "  plt.axis('off')\n",
        "  plt.title(np.argmax(y_train_batch[rand_idx]))\n",
        "\n",
        "plt.show()"
      ],
      "execution_count": 92,
      "outputs": [
        {
          "output_type": "display_data",
          "data": {
            "image/png": "[encoded data removed]",
            "text/plain": [
              "<Figure size 432x288 with 10 Axes>"
            ]
          },
          "metadata": {
            "tags": [],
            "needs_background": "light"
          }
        }
      ]
    },
    {
      "cell_type": "markdown",
      "metadata": {
        "id": "d3YlWYswWXeo"
      },
      "source": [
        "# Choosing a model"
      ]
    },
    {
      "cell_type": "code",
      "metadata": {
        "id": "YeD4PAFu1rai",
        "colab": {
          "base_uri": "https://localhost:8080/"
        },
        "outputId": "5701368c-29c0-43e7-dabc-b9630d595aa2"
      },
      "source": [
        "input_shape = X_train_batch[0].shape\n",
        "\n",
        "model = keras.Sequential([\n",
        " keras.layers.Conv2D(filters=8, kernel_size=3, activation='relu', padding='same', input_shape=input_shape),\n",
        "#  keras.layers.Conv2D(filters=8, kernel_size=3, activation='relu', padding='same'),\n",
        "#  keras.layers.Conv2D(filters=8, kernel_size=5, activation='relu', padding='same'),\n",
        " keras.layers.MaxPool2D(),\n",
        "#  keras.layers.Dropout(0.2),\n",
        " keras.layers.Conv2D(filters=16, kernel_size=3, activation='relu', padding='same'),\n",
        "#  keras.layers.Conv2D(filters=16, kernel_size=3, activation='relu', padding='same'),\n",
        "#  keras.layers.Conv2D(filters=16, kernel_size=3, activation='relu', padding='same'),\n",
        " keras.layers.MaxPool2D(),\n",
        "#  keras.layers.Dropout(0.2),\n",
        " keras.layers.Conv2D(filters=128, kernel_size=3, activation='relu', padding='same'),\n",
        "#  keras.layers.Conv2D(filters=128, kernel_size=3, activation='relu', padding='same'),\n",
        "#  keras.layers.Conv2D(filters=128, kernel_size=3, activation='relu', padding='same'),\n",
        " keras.layers.MaxPool2D(),\n",
        " keras.layers.Flatten(),\n",
        " keras.layers.Dropout(0.75),\n",
        " keras.layers.Dense(units=128, activation='relu'),\n",
        " keras.layers.Dense(units=CLASSES, activation='softmax')\n",
        "])\n",
        "\n",
        "model.compile(\n",
        "    optimizer=tf.keras.optimizers.Adam(),\n",
        "    loss='categorical_crossentropy',\n",
        "    metrics=['accuracy']\n",
        ")\n",
        "\n",
        "model.summary()"
      ],
      "execution_count": 93,
      "outputs": [
        {
          "output_type": "stream",
          "text": [
            "Model: \"sequential_27\"\n",
            "_________________________________________________________________\n",
            "Layer (type)                 Output Shape              Param #   \n",
            "=================================================================\n",
            "conv2d_143 (Conv2D)          (None, 32, 32, 8)         224       \n",
            "_________________________________________________________________\n",
            "max_pooling2d_67 (MaxPooling (None, 16, 16, 8)         0         \n",
            "_________________________________________________________________\n",
            "conv2d_144 (Conv2D)          (None, 16, 16, 16)        1168      \n",
            "_________________________________________________________________\n",
            "max_pooling2d_68 (MaxPooling (None, 8, 8, 16)          0         \n",
            "_________________________________________________________________\n",
            "conv2d_145 (Conv2D)          (None, 8, 8, 128)         18560     \n",
            "_________________________________________________________________\n",
            "max_pooling2d_69 (MaxPooling (None, 4, 4, 128)         0         \n",
            "_________________________________________________________________\n",
            "flatten_27 (Flatten)         (None, 2048)              0         \n",
            "_________________________________________________________________\n",
            "dropout_33 (Dropout)         (None, 2048)              0         \n",
            "_________________________________________________________________\n",
            "dense_40 (Dense)             (None, 128)               262272    \n",
            "_________________________________________________________________\n",
            "dense_41 (Dense)             (None, 43)                5547      \n",
            "=================================================================\n",
            "Total params: 287,771\n",
            "Trainable params: 287,771\n",
            "Non-trainable params: 0\n",
            "_________________________________________________________________\n"
          ],
          "name": "stdout"
        }
      ]
    },
    {
      "cell_type": "markdown",
      "metadata": {
        "id": "yMEVNNGyWaY3"
      },
      "source": [
        "# Training"
      ]
    },
    {
      "cell_type": "code",
      "metadata": {
        "id": "eaIExiPZ1tpw",
        "colab": {
          "base_uri": "https://localhost:8080/"
        },
        "outputId": "23c0f8da-0758-409a-850f-07b76b5064d2"
      },
      "source": [
        "model.fit(\n",
        "    x=train_generator,\n",
        "    validation_data=val_generator,\n",
        "    steps_per_epoch = train_generator.samples // BATCH_SIZE,\n",
        "    validation_steps = val_generator.samples // BATCH_SIZE,\n",
        "    epochs = 10\n",
        ")"
      ],
      "execution_count": 94,
      "outputs": [
        {
          "output_type": "stream",
          "text": [
            "Epoch 1/10\n",
            "980/980 [==============================] - 75s 76ms/step - loss: 1.9230 - accuracy: 0.4682 - val_loss: 16.6666 - val_accuracy: 0.0915\n",
            "Epoch 2/10\n",
            "980/980 [==============================] - 75s 76ms/step - loss: 0.6583 - accuracy: 0.7961 - val_loss: 18.8292 - val_accuracy: 0.1227\n",
            "Epoch 3/10\n",
            "980/980 [==============================] - 74s 76ms/step - loss: 0.4278 - accuracy: 0.8656 - val_loss: 19.1903 - val_accuracy: 0.1304\n",
            "Epoch 4/10\n",
            "980/980 [==============================] - 75s 76ms/step - loss: 0.3342 - accuracy: 0.8936 - val_loss: 21.7741 - val_accuracy: 0.1514\n",
            "Epoch 5/10\n",
            "980/980 [==============================] - 74s 76ms/step - loss: 0.2736 - accuracy: 0.9142 - val_loss: 21.3956 - val_accuracy: 0.1570\n",
            "Epoch 6/10\n",
            "980/980 [==============================] - 74s 76ms/step - loss: 0.2350 - accuracy: 0.9248 - val_loss: 23.0371 - val_accuracy: 0.1582\n",
            "Epoch 7/10\n",
            "980/980 [==============================] - 74s 76ms/step - loss: 0.2098 - accuracy: 0.9338 - val_loss: 25.1371 - val_accuracy: 0.1640\n",
            "Epoch 8/10\n",
            "980/980 [==============================] - 74s 76ms/step - loss: 0.1905 - accuracy: 0.9396 - val_loss: 26.9464 - val_accuracy: 0.1615\n",
            "Epoch 9/10\n",
            "980/980 [==============================] - 75s 77ms/step - loss: 0.1772 - accuracy: 0.9435 - val_loss: 26.0535 - val_accuracy: 0.1509\n",
            "Epoch 10/10\n",
            "980/980 [==============================] - 75s 77ms/step - loss: 0.1596 - accuracy: 0.9477 - val_loss: 25.0305 - val_accuracy: 0.1603\n"
          ],
          "name": "stdout"
        },
        {
          "output_type": "execute_result",
          "data": {
            "text/plain": [
              "<tensorflow.python.keras.callbacks.History at 0x7f486f20d690>"
            ]
          },
          "metadata": {
            "tags": []
          },
          "execution_count": 94
        }
      ]
    },
    {
      "cell_type": "markdown",
      "metadata": {
        "id": "Vsbeq8iLWcRO"
      },
      "source": [
        "# Evaluation"
      ]
    },
    {
      "cell_type": "code",
      "metadata": {
        "id": "rkJKuLMi1uNx"
      },
      "source": [
        "# Coming soon ..."
      ],
      "execution_count": 95,
      "outputs": []
    },
    {
      "cell_type": "code",
      "metadata": {
        "id": "qb0xIWq8eV3l"
      },
      "source": [
        ""
      ],
      "execution_count": 95,
      "outputs": []
    }
  ]
}