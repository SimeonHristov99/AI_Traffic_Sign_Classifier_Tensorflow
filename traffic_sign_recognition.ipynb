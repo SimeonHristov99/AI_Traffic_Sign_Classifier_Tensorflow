{
  "nbformat": 4,
  "nbformat_minor": 0,
  "metadata": {
    "colab": {
      "name": "traffic_sign_recognition.ipynb",
      "provenance": [],
      "collapsed_sections": [],
      "authorship_tag": "ABX9TyMOUmNIEJeJsDFqWG49skcr",
      "include_colab_link": true
    },
    "kernelspec": {
      "name": "python3",
      "display_name": "Python 3"
    },
    "language_info": {
      "name": "python"
    },
    "accelerator": "GPU"
  },
  "cells": [
    {
      "cell_type": "markdown",
      "metadata": {
        "id": "view-in-github",
        "colab_type": "text"
      },
      "source": [
        "<a href=\"https://colab.research.google.com/github/SimeonHristov99/AI_Traffic_Sign_Classifier_Tensorflow/blob/main/traffic_sign_recognition.ipynb\" target=\"_parent\"><img src=\"https://colab.research.google.com/assets/colab-badge.svg\" alt=\"Open In Colab\"/></a>"
      ]
    },
    {
      "cell_type": "markdown",
      "metadata": {
        "id": "K9GWMkF2TU1H"
      },
      "source": [
        "# Description\n",
        "\n",
        "## Traffic Sign Classifier\n",
        "\n",
        "### The goal of this project is to build and train a traffic sign classifier. Results were generated in the context of the second  stage  of  the [GTSRB - German Traffic Sign Recognition Benchmark](https://www.kaggle.com/meowmeowmeowmeowmeow/gtsrb-german-traffic-sign) dataset. The classifier is a convolutional neural network and is implemented using the deep learning framework [Keras](https://keras.io/) from the [TensorFlow](https://www.tensorflow.org/) library.\n",
        "\n",
        "### Inspired by:\n",
        "- [CNN Design for Real-Time Traffic Sign Recognition](https://www.sciencedirect.com/science/article/pii/S1877705817341231)\n",
        "- [Man vs. computer: benchmarking machine learning algorithms for traffic sign recognition](https://christian-igel.github.io/paper/MvCBMLAfTSR.pdf)"
      ]
    },
    {
      "cell_type": "code",
      "metadata": {
        "id": "rbMdo5NMTtOv"
      },
      "source": [
        "import tensorflow as tf\n",
        "from tensorflow import keras\n",
        "from tensorflow.keras.preprocessing.image import ImageDataGenerator\n",
        "import matplotlib.pyplot as plt\n",
        "import pandas as pd\n",
        "import numpy as np\n",
        "\n",
        "from sklearn.metrics import confusion_matrix"
      ],
      "execution_count": 212,
      "outputs": []
    },
    {
      "cell_type": "markdown",
      "metadata": {
        "id": "yTdt9MMEWPcF"
      },
      "source": [
        "# Loading data"
      ]
    },
    {
      "cell_type": "code",
      "metadata": {
        "id": "ToE-eIenanr-"
      },
      "source": [
        "# # # Run one time only. Requires Kaggle API access key to download the dataset.\n",
        "# !pip install -q kaggle\n",
        "\n",
        "# import os\n",
        "# from google.colab import drive\n",
        "\n",
        "# drive.mount('/gdrive')\n",
        "\n",
        "# assert os.getcwd() == '/content'\n",
        "\n",
        "# os.environ['KAGGLE_CONFIG_DIR'] = '../gdrive/MyDrive/kaggle'\n",
        "\n",
        "# !kaggle datasets download meowmeowmeowmeowmeow/gtsrb-german-traffic-sign -p /content/data/ --unzip"
      ],
      "execution_count": 213,
      "outputs": []
    },
    {
      "cell_type": "code",
      "metadata": {
        "id": "Tg2Fxe4NhRCA"
      },
      "source": [
        "traindf = pd.read_csv('/content/data/Train.csv',dtype=str)\n",
        "testdf = pd.read_csv('/content/data/Test.csv',dtype=str)"
      ],
      "execution_count": 214,
      "outputs": []
    },
    {
      "cell_type": "code",
      "metadata": {
        "colab": {
          "base_uri": "https://localhost:8080/"
        },
        "id": "uB_Odppwki98",
        "outputId": "db622368-c91e-4594-e30b-4ce170b34cbc"
      },
      "source": [
        "BATCH_SIZE = 50\n",
        "IM_SIZE = 28\n",
        "CLASSES = 43\n",
        "TRAIN_DATA_DIR = '/content/data'\n",
        "TEST_DATA_DIR = '/content/data'\n",
        "\n",
        "train_datagen = ImageDataGenerator(\n",
        "    rescale=1./255,\n",
        "    rotation_range=20,\n",
        "    width_shift_range=0.2,\n",
        "    height_shift_range=0.2,\n",
        "    shear_range=0.2,\n",
        "    zoom_range=0.2,\n",
        "    validation_split=0.05, # set validation split tf.image.rgb_to_grayscale,\n",
        "    # preprocessing_function=tf.keras.applications.vgg16.preprocess_input,\n",
        ")\n",
        "\n",
        "train_generator = train_datagen.flow_from_dataframe(\n",
        "    dataframe=traindf,\n",
        "    directory=TRAIN_DATA_DIR,\n",
        "    x_col='Path',\n",
        "    y_col='ClassId',\n",
        "    seed=42,\n",
        "    batch_size=BATCH_SIZE,\n",
        "    subset='training', # set as training data\n",
        "    target_size=(IM_SIZE, IM_SIZE)\n",
        ")\n",
        "\n",
        "val_generator = train_datagen.flow_from_dataframe(\n",
        "    dataframe=traindf,\n",
        "    directory=TRAIN_DATA_DIR,\n",
        "    x_col='Path',\n",
        "    y_col='ClassId',\n",
        "    seed=42,\n",
        "    batch_size=BATCH_SIZE,\n",
        "    subset='validation', # set as training data\n",
        "    target_size=(IM_SIZE, IM_SIZE)\n",
        ")\n",
        "\n",
        "test_datagen = ImageDataGenerator(\n",
        "    rescale=1./255.\n",
        ")\n",
        "\n",
        "test_generator = test_datagen.flow_from_dataframe(\n",
        "    dataframe=testdf,\n",
        "    directory=TEST_DATA_DIR,\n",
        "    x_col='Path',\n",
        "    y_col='ClassId',\n",
        "    seed=42,\n",
        "    target_size=(IM_SIZE, IM_SIZE),\n",
        "    batch_size=12630,\n",
        "    shuffle=False,\n",
        ")\n",
        "\n",
        "print(f'{len(train_generator)} training batches. Each with {train_generator[0][0].shape[0]} images.')\n",
        "print(f'{len(val_generator)} validation batches. Each with {val_generator[0][0].shape[0]} images.')\n",
        "print(f'{len(test_generator)} test batches. Each with {test_generator[0][0].shape[0]} images.')"
      ],
      "execution_count": 215,
      "outputs": [
        {
          "output_type": "stream",
          "text": [
            "Found 37249 validated image filenames belonging to 43 classes.\n",
            "Found 1960 validated image filenames belonging to 43 classes.\n",
            "Found 12630 validated image filenames belonging to 43 classes.\n",
            "745 training batches. Each with 50 images.\n",
            "40 validation batches. Each with 50 images.\n",
            "1 test batches. Each with 12630 images.\n"
          ],
          "name": "stdout"
        }
      ]
    },
    {
      "cell_type": "markdown",
      "metadata": {
        "id": "GJV4X9vRT56l"
      },
      "source": [
        "# Visualizing data"
      ]
    },
    {
      "cell_type": "code",
      "metadata": {
        "colab": {
          "base_uri": "https://localhost:8080/"
        },
        "id": "dx5iSL8zzifO",
        "outputId": "3992bc9a-c818-4c1a-88e9-6b7fba6bfa44"
      },
      "source": [
        "X_train_batch, y_train_batch = next(train_generator)\n",
        "X_val_batch, y_val_batch = next(val_generator)\n",
        "\n",
        "print(type(X_train_batch), X_train_batch.shape, type(y_train_batch), y_train_batch.shape)\n",
        "print(type(X_val_batch), X_val_batch.shape, type(y_val_batch), y_val_batch.shape)"
      ],
      "execution_count": 181,
      "outputs": [
        {
          "output_type": "stream",
          "text": [
            "<class 'numpy.ndarray'> (50, 28, 28, 3) <class 'numpy.ndarray'> (50, 43)\n",
            "<class 'numpy.ndarray'> (50, 28, 28, 3) <class 'numpy.ndarray'> (50, 43)\n"
          ],
          "name": "stdout"
        }
      ]
    },
    {
      "cell_type": "code",
      "metadata": {
        "colab": {
          "base_uri": "https://localhost:8080/",
          "height": 223
        },
        "id": "v44C0iURoBFK",
        "outputId": "c3d72eb0-82b8-44cc-a406-6334b18b64ae"
      },
      "source": [
        "for i in range(10):\n",
        "  plt.subplot(2, 5, i + 1)\n",
        "\n",
        "  rand_idx = np.random.randint(X_train_batch.shape[0])\n",
        "  image = X_train_batch[rand_idx]\n",
        "  \n",
        "  plt.imshow(image)\n",
        "  plt.axis('off')\n",
        "  plt.title(np.argmax(y_train_batch[rand_idx]))\n",
        "\n",
        "plt.show()"
      ],
      "execution_count": 182,
      "outputs": [
        {
          "output_type": "display_data",
          "data": {
            "image/png": "[encoded data removed]",
            "text/plain": [
              "<Figure size 432x288 with 10 Axes>"
            ]
          },
          "metadata": {
            "tags": [],
            "needs_background": "light"
          }
        }
      ]
    },
    {
      "cell_type": "markdown",
      "metadata": {
        "id": "d3YlWYswWXeo"
      },
      "source": [
        "# Choosing a model"
      ]
    },
    {
      "cell_type": "code",
      "metadata": {
        "id": "YeD4PAFu1rai",
        "colab": {
          "base_uri": "https://localhost:8080/"
        },
        "outputId": "9c8dad12-8809-4e04-ddd0-afdac6d2b691"
      },
      "source": [
        "input_shape = X_train_batch[0].shape\n",
        "\n",
        "# model = keras.Sequential([\n",
        "#  keras.layers.Conv2D(filters=8, kernel_size=3, activation='relu', padding='same', input_shape=input_shape),\n",
        "#  keras.layers.MaxPool2D(),\n",
        "#  keras.layers.Conv2D(filters=16, kernel_size=3, activation='relu', padding='same'),\n",
        "#  keras.layers.MaxPool2D(),\n",
        "#  keras.layers.Flatten(),\n",
        "#  keras.layers.Dropout(0.5),\n",
        "#  keras.layers.Dense(units=CLASSES, activation='softmax')\n",
        "# ])\n",
        "\n",
        "model = keras.models.Sequential([ # lenet_5_model\n",
        "    keras.layers.Conv2D(16, kernel_size=5, strides=1,  activation='relu', input_shape=input_shape, padding='same'), #C1\n",
        "    keras.layers.Conv2D(16, kernel_size=5, strides=1,  activation='relu', padding='same'),\n",
        "    keras.layers.Conv2D(16, kernel_size=5, strides=1,  activation='relu', padding='same'),\n",
        "    keras.layers.BatchNormalization(),\n",
        "    keras.layers.MaxPool2D(), #S2\n",
        "    keras.layers.Dropout(0.3),\n",
        "    keras.layers.Conv2D(32, kernel_size=5, strides=1, activation='relu', padding='same'),\n",
        "    keras.layers.Conv2D(32, kernel_size=5, strides=1, activation='relu', padding='same'),\n",
        "    keras.layers.Conv2D(32, kernel_size=5, strides=1, activation='relu', padding='same'),\n",
        "    keras.layers.BatchNormalization(),\n",
        "    keras.layers.MaxPool2D(), #S4\n",
        "    keras.layers.Dropout(0.3),\n",
        "    keras.layers.Flatten(), #Flatten\n",
        "    keras.layers.Dropout(0.85),\n",
        "    keras.layers.Dense(CLASSES, activation='softmax') #Output layer\n",
        "])\n",
        "\n",
        "model.compile(\n",
        "    optimizer=tf.keras.optimizers.Adam(),\n",
        "    loss='categorical_crossentropy',\n",
        "    metrics=['accuracy']\n",
        ")\n",
        "\n",
        "model.summary()"
      ],
      "execution_count": 197,
      "outputs": [
        {
          "output_type": "stream",
          "text": [
            "Model: \"sequential_54\"\n",
            "_________________________________________________________________\n",
            "Layer (type)                 Output Shape              Param #   \n",
            "=================================================================\n",
            "conv2d_212 (Conv2D)          (None, 28, 28, 16)        1216      \n",
            "_________________________________________________________________\n",
            "conv2d_213 (Conv2D)          (None, 28, 28, 16)        6416      \n",
            "_________________________________________________________________\n",
            "conv2d_214 (Conv2D)          (None, 28, 28, 16)        6416      \n",
            "_________________________________________________________________\n",
            "batch_normalization_30 (Batc (None, 28, 28, 16)        64        \n",
            "_________________________________________________________________\n",
            "max_pooling2d_104 (MaxPoolin (None, 14, 14, 16)        0         \n",
            "_________________________________________________________________\n",
            "dropout_67 (Dropout)         (None, 14, 14, 16)        0         \n",
            "_________________________________________________________________\n",
            "conv2d_215 (Conv2D)          (None, 14, 14, 32)        12832     \n",
            "_________________________________________________________________\n",
            "conv2d_216 (Conv2D)          (None, 14, 14, 32)        25632     \n",
            "_________________________________________________________________\n",
            "conv2d_217 (Conv2D)          (None, 14, 14, 32)        25632     \n",
            "_________________________________________________________________\n",
            "batch_normalization_31 (Batc (None, 14, 14, 32)        128       \n",
            "_________________________________________________________________\n",
            "max_pooling2d_105 (MaxPoolin (None, 7, 7, 32)          0         \n",
            "_________________________________________________________________\n",
            "dropout_68 (Dropout)         (None, 7, 7, 32)          0         \n",
            "_________________________________________________________________\n",
            "flatten_54 (Flatten)         (None, 1568)              0         \n",
            "_________________________________________________________________\n",
            "dropout_69 (Dropout)         (None, 1568)              0         \n",
            "_________________________________________________________________\n",
            "dense_94 (Dense)             (None, 43)                67467     \n",
            "=================================================================\n",
            "Total params: 145,803\n",
            "Trainable params: 145,707\n",
            "Non-trainable params: 96\n",
            "_________________________________________________________________\n"
          ],
          "name": "stdout"
        }
      ]
    },
    {
      "cell_type": "markdown",
      "metadata": {
        "id": "yMEVNNGyWaY3"
      },
      "source": [
        "# Training"
      ]
    },
    {
      "cell_type": "code",
      "metadata": {
        "id": "eaIExiPZ1tpw",
        "colab": {
          "base_uri": "https://localhost:8080/"
        },
        "outputId": "5caa5b98-c501-43b7-b5aa-8fb4d978ab62"
      },
      "source": [
        "model.fit(\n",
        "    x=train_generator,\n",
        "    validation_data=val_generator,\n",
        "    steps_per_epoch = train_generator.samples // BATCH_SIZE,\n",
        "    validation_steps = val_generator.samples // BATCH_SIZE,\n",
        "    epochs = 100\n",
        ")"
      ],
      "execution_count": 198,
      "outputs": [
        {
          "output_type": "stream",
          "text": [
            "Epoch 1/100\n",
            "744/744 [==============================] - 15s 20ms/step - loss: 4.1193 - accuracy: 0.0938 - val_loss: 4.9007 - val_accuracy: 0.0000e+00\n",
            "Epoch 2/100\n",
            "744/744 [==============================] - 14s 19ms/step - loss: 3.1308 - accuracy: 0.1821 - val_loss: 5.1434 - val_accuracy: 0.0000e+00\n",
            "Epoch 3/100\n",
            "744/744 [==============================] - 15s 20ms/step - loss: 1.8305 - accuracy: 0.4748 - val_loss: 4.8596 - val_accuracy: 0.0856\n",
            "Epoch 4/100\n",
            "744/744 [==============================] - 15s 20ms/step - loss: 1.0371 - accuracy: 0.6770 - val_loss: 4.9128 - val_accuracy: 0.2713\n",
            "Epoch 5/100\n",
            "744/744 [==============================] - 15s 20ms/step - loss: 0.6891 - accuracy: 0.7838 - val_loss: 3.7585 - val_accuracy: 0.4733\n",
            "Epoch 6/100\n",
            "744/744 [==============================] - 15s 20ms/step - loss: 0.5062 - accuracy: 0.8428 - val_loss: 4.6505 - val_accuracy: 0.4703\n",
            "Epoch 7/100\n",
            "744/744 [==============================] - 15s 20ms/step - loss: 0.3818 - accuracy: 0.8826 - val_loss: 4.5417 - val_accuracy: 0.5400\n",
            "Epoch 8/100\n",
            "744/744 [==============================] - 14s 19ms/step - loss: 0.3374 - accuracy: 0.8968 - val_loss: 4.3198 - val_accuracy: 0.5913\n",
            "Epoch 9/100\n",
            "744/744 [==============================] - 15s 20ms/step - loss: 0.2877 - accuracy: 0.9134 - val_loss: 4.2691 - val_accuracy: 0.5749\n",
            "Epoch 10/100\n",
            "744/744 [==============================] - 15s 20ms/step - loss: 0.2420 - accuracy: 0.9277 - val_loss: 4.7762 - val_accuracy: 0.5477\n",
            "Epoch 11/100\n",
            "744/744 [==============================] - 15s 20ms/step - loss: 0.2115 - accuracy: 0.9351 - val_loss: 4.5463 - val_accuracy: 0.6297\n",
            "Epoch 12/100\n",
            "744/744 [==============================] - 15s 20ms/step - loss: 0.1985 - accuracy: 0.9391 - val_loss: 4.9985 - val_accuracy: 0.5431\n",
            "Epoch 13/100\n",
            "744/744 [==============================] - 15s 20ms/step - loss: 0.1873 - accuracy: 0.9430 - val_loss: 4.6915 - val_accuracy: 0.5708\n",
            "Epoch 14/100\n",
            "744/744 [==============================] - 15s 20ms/step - loss: 0.1581 - accuracy: 0.9526 - val_loss: 5.0020 - val_accuracy: 0.5410\n",
            "Epoch 15/100\n",
            "744/744 [==============================] - 15s 20ms/step - loss: 0.1486 - accuracy: 0.9539 - val_loss: 4.7924 - val_accuracy: 0.6159\n",
            "Epoch 16/100\n",
            "744/744 [==============================] - 15s 20ms/step - loss: 0.1394 - accuracy: 0.9569 - val_loss: 4.7540 - val_accuracy: 0.5995\n",
            "Epoch 17/100\n",
            "744/744 [==============================] - 15s 20ms/step - loss: 0.1308 - accuracy: 0.9592 - val_loss: 5.0102 - val_accuracy: 0.5933\n",
            "Epoch 18/100\n",
            "744/744 [==============================] - 15s 20ms/step - loss: 0.1185 - accuracy: 0.9636 - val_loss: 4.7627 - val_accuracy: 0.6256\n",
            "Epoch 19/100\n",
            "744/744 [==============================] - 15s 20ms/step - loss: 0.1164 - accuracy: 0.9650 - val_loss: 4.6330 - val_accuracy: 0.6082\n",
            "Epoch 20/100\n",
            "744/744 [==============================] - 15s 20ms/step - loss: 0.1050 - accuracy: 0.9682 - val_loss: 5.0379 - val_accuracy: 0.6292\n",
            "Epoch 21/100\n",
            "744/744 [==============================] - 15s 20ms/step - loss: 0.1355 - accuracy: 0.9594 - val_loss: 5.0442 - val_accuracy: 0.5872\n",
            "Epoch 22/100\n",
            "744/744 [==============================] - 15s 20ms/step - loss: 0.0987 - accuracy: 0.9700 - val_loss: 5.0541 - val_accuracy: 0.6077\n",
            "Epoch 23/100\n",
            "744/744 [==============================] - 15s 20ms/step - loss: 0.1060 - accuracy: 0.9680 - val_loss: 5.2881 - val_accuracy: 0.6390\n",
            "Epoch 24/100\n",
            "744/744 [==============================] - 15s 20ms/step - loss: 0.0881 - accuracy: 0.9717 - val_loss: 5.4079 - val_accuracy: 0.5923\n",
            "Epoch 25/100\n",
            "744/744 [==============================] - 15s 20ms/step - loss: 0.0814 - accuracy: 0.9745 - val_loss: 5.4673 - val_accuracy: 0.6226\n",
            "Epoch 26/100\n",
            "744/744 [==============================] - 15s 20ms/step - loss: 0.0882 - accuracy: 0.9724 - val_loss: 4.8877 - val_accuracy: 0.6574\n",
            "Epoch 27/100\n",
            "744/744 [==============================] - 15s 20ms/step - loss: 0.0696 - accuracy: 0.9791 - val_loss: 5.4045 - val_accuracy: 0.6338\n",
            "Epoch 28/100\n",
            "744/744 [==============================] - 15s 20ms/step - loss: 0.1002 - accuracy: 0.9694 - val_loss: 5.3240 - val_accuracy: 0.6256\n",
            "Epoch 29/100\n",
            "744/744 [==============================] - 15s 20ms/step - loss: 0.0659 - accuracy: 0.9800 - val_loss: 5.6187 - val_accuracy: 0.6451\n",
            "Epoch 30/100\n",
            "744/744 [==============================] - 15s 20ms/step - loss: 0.0669 - accuracy: 0.9790 - val_loss: 5.5785 - val_accuracy: 0.6451\n",
            "Epoch 31/100\n",
            "744/744 [==============================] - 15s 20ms/step - loss: 0.0662 - accuracy: 0.9799 - val_loss: 5.6025 - val_accuracy: 0.6692\n",
            "Epoch 32/100\n",
            "744/744 [==============================] - 15s 20ms/step - loss: 0.0957 - accuracy: 0.9730 - val_loss: 5.4502 - val_accuracy: 0.6415\n",
            "Epoch 33/100\n",
            "744/744 [==============================] - 15s 20ms/step - loss: 0.0566 - accuracy: 0.9817 - val_loss: 5.2143 - val_accuracy: 0.6523\n",
            "Epoch 34/100\n",
            "744/744 [==============================] - 15s 20ms/step - loss: 0.0560 - accuracy: 0.9825 - val_loss: 5.6213 - val_accuracy: 0.6451\n",
            "Epoch 35/100\n",
            "744/744 [==============================] - 15s 20ms/step - loss: 0.0560 - accuracy: 0.9830 - val_loss: 5.7355 - val_accuracy: 0.6144\n",
            "Epoch 36/100\n",
            "744/744 [==============================] - 15s 20ms/step - loss: 0.0662 - accuracy: 0.9828 - val_loss: 5.9072 - val_accuracy: 0.6667\n",
            "Epoch 37/100\n",
            "744/744 [==============================] - 15s 20ms/step - loss: 0.0535 - accuracy: 0.9834 - val_loss: 5.5298 - val_accuracy: 0.6564\n",
            "Epoch 38/100\n",
            "744/744 [==============================] - 15s 20ms/step - loss: 0.0529 - accuracy: 0.9840 - val_loss: 5.8087 - val_accuracy: 0.6323\n",
            "Epoch 39/100\n",
            "744/744 [==============================] - 15s 20ms/step - loss: 0.0549 - accuracy: 0.9835 - val_loss: 5.8591 - val_accuracy: 0.6769\n",
            "Epoch 40/100\n",
            "744/744 [==============================] - 15s 20ms/step - loss: 0.0468 - accuracy: 0.9854 - val_loss: 5.8565 - val_accuracy: 0.6559\n",
            "Epoch 41/100\n",
            "744/744 [==============================] - 15s 20ms/step - loss: 0.0459 - accuracy: 0.9855 - val_loss: 6.1095 - val_accuracy: 0.6482\n",
            "Epoch 42/100\n",
            "744/744 [==============================] - 15s 20ms/step - loss: 0.0452 - accuracy: 0.9859 - val_loss: 6.2191 - val_accuracy: 0.6569\n",
            "Epoch 43/100\n",
            "744/744 [==============================] - 15s 20ms/step - loss: 0.4200 - accuracy: 0.9447 - val_loss: 9.8434 - val_accuracy: 0.6621\n",
            "Epoch 44/100\n",
            "744/744 [==============================] - 15s 20ms/step - loss: 0.1239 - accuracy: 0.9723 - val_loss: 9.3947 - val_accuracy: 0.6359\n",
            "Epoch 45/100\n",
            "744/744 [==============================] - 15s 20ms/step - loss: 0.0743 - accuracy: 0.9812 - val_loss: 9.3342 - val_accuracy: 0.6456\n",
            "Epoch 46/100\n",
            "744/744 [==============================] - 15s 20ms/step - loss: 0.0636 - accuracy: 0.9841 - val_loss: 8.2623 - val_accuracy: 0.6379\n",
            "Epoch 47/100\n",
            "744/744 [==============================] - 15s 20ms/step - loss: 0.0608 - accuracy: 0.9841 - val_loss: 7.8269 - val_accuracy: 0.6451\n",
            "Epoch 48/100\n",
            "744/744 [==============================] - 15s 20ms/step - loss: 0.0887 - accuracy: 0.9770 - val_loss: 8.1522 - val_accuracy: 0.6421\n",
            "Epoch 49/100\n",
            "744/744 [==============================] - 15s 20ms/step - loss: 0.0499 - accuracy: 0.9859 - val_loss: 8.0355 - val_accuracy: 0.6533\n",
            "Epoch 50/100\n",
            "744/744 [==============================] - 15s 20ms/step - loss: 0.0686 - accuracy: 0.9824 - val_loss: 7.8079 - val_accuracy: 0.6687\n",
            "Epoch 51/100\n",
            "744/744 [==============================] - 15s 20ms/step - loss: 0.1180 - accuracy: 0.9715 - val_loss: 6.8160 - val_accuracy: 0.6605\n",
            "Epoch 52/100\n",
            "744/744 [==============================] - 15s 20ms/step - loss: 0.0551 - accuracy: 0.9837 - val_loss: 6.7068 - val_accuracy: 0.6579\n",
            "Epoch 53/100\n",
            "744/744 [==============================] - 15s 20ms/step - loss: 0.0446 - accuracy: 0.9878 - val_loss: 7.2998 - val_accuracy: 0.6641\n",
            "Epoch 54/100\n",
            "744/744 [==============================] - 15s 20ms/step - loss: 0.0379 - accuracy: 0.9888 - val_loss: 7.0975 - val_accuracy: 0.6246\n",
            "Epoch 55/100\n",
            "744/744 [==============================] - 15s 20ms/step - loss: 0.0368 - accuracy: 0.9892 - val_loss: 6.8659 - val_accuracy: 0.6503\n",
            "Epoch 56/100\n",
            "744/744 [==============================] - 15s 20ms/step - loss: 0.0371 - accuracy: 0.9881 - val_loss: 7.9813 - val_accuracy: 0.6887\n",
            "Epoch 57/100\n",
            "744/744 [==============================] - 16s 21ms/step - loss: 0.0416 - accuracy: 0.9878 - val_loss: 7.8027 - val_accuracy: 0.6385\n",
            "Epoch 58/100\n",
            "744/744 [==============================] - 16s 21ms/step - loss: 0.0399 - accuracy: 0.9874 - val_loss: 6.2774 - val_accuracy: 0.6523\n",
            "Epoch 59/100\n",
            "744/744 [==============================] - 16s 21ms/step - loss: 0.0391 - accuracy: 0.9880 - val_loss: 6.0239 - val_accuracy: 0.6559\n",
            "Epoch 60/100\n",
            "744/744 [==============================] - 15s 21ms/step - loss: 0.0977 - accuracy: 0.9794 - val_loss: 5.9694 - val_accuracy: 0.6497\n",
            "Epoch 61/100\n",
            "744/744 [==============================] - 15s 21ms/step - loss: 0.0392 - accuracy: 0.9889 - val_loss: 6.9127 - val_accuracy: 0.6482\n",
            "Epoch 62/100\n",
            "744/744 [==============================] - 15s 20ms/step - loss: 0.0472 - accuracy: 0.9866 - val_loss: 6.7860 - val_accuracy: 0.6662\n",
            "Epoch 63/100\n",
            "744/744 [==============================] - 15s 20ms/step - loss: 0.0394 - accuracy: 0.9892 - val_loss: 7.7157 - val_accuracy: 0.6579\n",
            "Epoch 64/100\n",
            "744/744 [==============================] - 15s 20ms/step - loss: 0.1090 - accuracy: 0.9780 - val_loss: 6.2985 - val_accuracy: 0.6446\n",
            "Epoch 65/100\n",
            "744/744 [==============================] - 15s 20ms/step - loss: 0.0529 - accuracy: 0.9863 - val_loss: 6.4111 - val_accuracy: 0.6533\n",
            "Epoch 66/100\n",
            "744/744 [==============================] - 15s 20ms/step - loss: 0.0336 - accuracy: 0.9899 - val_loss: 6.2580 - val_accuracy: 0.6703\n",
            "Epoch 67/100\n",
            "744/744 [==============================] - 15s 20ms/step - loss: 0.0680 - accuracy: 0.9826 - val_loss: 5.5862 - val_accuracy: 0.6564\n",
            "Epoch 68/100\n",
            "744/744 [==============================] - 15s 20ms/step - loss: 0.0474 - accuracy: 0.9857 - val_loss: 5.9179 - val_accuracy: 0.6656\n",
            "Epoch 69/100\n",
            "744/744 [==============================] - 15s 20ms/step - loss: 0.0323 - accuracy: 0.9901 - val_loss: 6.5517 - val_accuracy: 0.6651\n",
            "Epoch 70/100\n",
            "744/744 [==============================] - 15s 20ms/step - loss: 0.0303 - accuracy: 0.9909 - val_loss: 6.8295 - val_accuracy: 0.6795\n",
            "Epoch 71/100\n",
            "744/744 [==============================] - 15s 20ms/step - loss: 0.0266 - accuracy: 0.9920 - val_loss: 6.5998 - val_accuracy: 0.6636\n",
            "Epoch 72/100\n",
            "744/744 [==============================] - 15s 20ms/step - loss: 0.0294 - accuracy: 0.9909 - val_loss: 6.6138 - val_accuracy: 0.6646\n",
            "Epoch 73/100\n",
            "744/744 [==============================] - 15s 20ms/step - loss: 0.0285 - accuracy: 0.9914 - val_loss: 6.3381 - val_accuracy: 0.6667\n",
            "Epoch 74/100\n",
            "744/744 [==============================] - 15s 20ms/step - loss: 0.0298 - accuracy: 0.9910 - val_loss: 6.3376 - val_accuracy: 0.6564\n",
            "Epoch 75/100\n",
            "744/744 [==============================] - 15s 21ms/step - loss: 0.0297 - accuracy: 0.9910 - val_loss: 5.9890 - val_accuracy: 0.6621\n",
            "Epoch 76/100\n",
            "744/744 [==============================] - 16s 21ms/step - loss: 0.0309 - accuracy: 0.9909 - val_loss: 5.3941 - val_accuracy: 0.6385\n",
            "Epoch 77/100\n",
            "744/744 [==============================] - 15s 21ms/step - loss: 0.0311 - accuracy: 0.9912 - val_loss: 5.5783 - val_accuracy: 0.6554\n",
            "Epoch 78/100\n",
            "744/744 [==============================] - 15s 21ms/step - loss: 0.0278 - accuracy: 0.9916 - val_loss: 6.4380 - val_accuracy: 0.6400\n",
            "Epoch 79/100\n",
            "744/744 [==============================] - 15s 20ms/step - loss: 0.0260 - accuracy: 0.9914 - val_loss: 5.8565 - val_accuracy: 0.6600\n",
            "Epoch 80/100\n",
            "744/744 [==============================] - 15s 21ms/step - loss: 0.0248 - accuracy: 0.9918 - val_loss: 6.2863 - val_accuracy: 0.6646\n",
            "Epoch 81/100\n",
            "744/744 [==============================] - 16s 21ms/step - loss: 0.0288 - accuracy: 0.9910 - val_loss: 5.9341 - val_accuracy: 0.6482\n",
            "Epoch 82/100\n",
            "744/744 [==============================] - 18s 24ms/step - loss: 0.0457 - accuracy: 0.9857 - val_loss: 6.3081 - val_accuracy: 0.6687\n",
            "Epoch 83/100\n",
            "744/744 [==============================] - 16s 21ms/step - loss: 0.0273 - accuracy: 0.9927 - val_loss: 5.8379 - val_accuracy: 0.6810\n",
            "Epoch 84/100\n",
            "744/744 [==============================] - 16s 21ms/step - loss: 0.0232 - accuracy: 0.9930 - val_loss: 6.5552 - val_accuracy: 0.6687\n",
            "Epoch 85/100\n",
            "744/744 [==============================] - 15s 20ms/step - loss: 0.0270 - accuracy: 0.9919 - val_loss: 5.4095 - val_accuracy: 0.6595\n",
            "Epoch 86/100\n",
            "744/744 [==============================] - 15s 20ms/step - loss: 0.0199 - accuracy: 0.9937 - val_loss: 6.0791 - val_accuracy: 0.6538\n",
            "Epoch 87/100\n",
            "744/744 [==============================] - 15s 20ms/step - loss: 0.0237 - accuracy: 0.9927 - val_loss: 5.6367 - val_accuracy: 0.6436\n",
            "Epoch 88/100\n",
            "744/744 [==============================] - 15s 20ms/step - loss: 0.0220 - accuracy: 0.9928 - val_loss: 6.6226 - val_accuracy: 0.6744\n",
            "Epoch 89/100\n",
            "744/744 [==============================] - 15s 21ms/step - loss: 0.0217 - accuracy: 0.9933 - val_loss: 6.5847 - val_accuracy: 0.6415\n",
            "Epoch 90/100\n",
            "744/744 [==============================] - 15s 20ms/step - loss: 0.0235 - accuracy: 0.9926 - val_loss: 6.1131 - val_accuracy: 0.6656\n",
            "Epoch 91/100\n",
            "744/744 [==============================] - 15s 20ms/step - loss: 0.0226 - accuracy: 0.9932 - val_loss: 6.7976 - val_accuracy: 0.6631\n",
            "Epoch 92/100\n",
            "744/744 [==============================] - 15s 20ms/step - loss: 0.0224 - accuracy: 0.9924 - val_loss: 6.4087 - val_accuracy: 0.6692\n",
            "Epoch 93/100\n",
            "744/744 [==============================] - 15s 20ms/step - loss: 0.0216 - accuracy: 0.9933 - val_loss: 5.9075 - val_accuracy: 0.6533\n",
            "Epoch 94/100\n",
            "744/744 [==============================] - 15s 20ms/step - loss: 0.0253 - accuracy: 0.9924 - val_loss: 5.8937 - val_accuracy: 0.6544\n",
            "Epoch 95/100\n",
            "744/744 [==============================] - 15s 20ms/step - loss: 0.0327 - accuracy: 0.9913 - val_loss: 5.9471 - val_accuracy: 0.6533\n",
            "Epoch 96/100\n",
            "744/744 [==============================] - 15s 20ms/step - loss: 0.0214 - accuracy: 0.9933 - val_loss: 6.1732 - val_accuracy: 0.6826\n",
            "Epoch 97/100\n",
            "744/744 [==============================] - 15s 20ms/step - loss: 0.0158 - accuracy: 0.9948 - val_loss: 6.7272 - val_accuracy: 0.6585\n",
            "Epoch 98/100\n",
            "744/744 [==============================] - 15s 20ms/step - loss: 0.0200 - accuracy: 0.9941 - val_loss: 6.2982 - val_accuracy: 0.6492\n",
            "Epoch 99/100\n",
            "744/744 [==============================] - 15s 20ms/step - loss: 0.0191 - accuracy: 0.9940 - val_loss: 6.8909 - val_accuracy: 0.6554\n",
            "Epoch 100/100\n",
            "744/744 [==============================] - 15s 20ms/step - loss: 0.0211 - accuracy: 0.9936 - val_loss: 6.2617 - val_accuracy: 0.6492\n"
          ],
          "name": "stdout"
        },
        {
          "output_type": "execute_result",
          "data": {
            "text/plain": [
              "<tensorflow.python.keras.callbacks.History at 0x7f4870dfea50>"
            ]
          },
          "metadata": {
            "tags": []
          },
          "execution_count": 198
        }
      ]
    },
    {
      "cell_type": "markdown",
      "metadata": {
        "id": "Vsbeq8iLWcRO"
      },
      "source": [
        "# Evaluation"
      ]
    },
    {
      "cell_type": "code",
      "metadata": {
        "id": "rkJKuLMi1uNx"
      },
      "source": [
        "#Predicting the classes of images\n",
        "test_generator.reset()\n",
        "predictions = model.predict(test_generator)\n",
        "print('predictions shape:', predictions.shape)\n",
        "\n",
        "# getting the labels\n",
        "\n",
        "pred_labels = list(np.argmax(predictions, axis=1))\n",
        "predicted_class_indices=np.argmax(predictions,axis=1)\n",
        "\n",
        "# getting true labels\n",
        "true_labels = test_generator.classes\n",
        "\n",
        "# get the confusion plot\n",
        "\n",
        "cm = confusion_matrix(true_labels, pred_labels)\n",
        "cm\n",
        "\n",
        "# labels = (train_generator.class_indices)\n",
        "# labels = dict((v,k) for k,v in labels.items())\n",
        "# predictions = [labels[k] for k in predicted_class_indices]\n",
        "# predictions\n"
      ],
      "execution_count": null,
      "outputs": []
    },
    {
      "cell_type": "code",
      "metadata": {
        "colab": {
          "base_uri": "https://localhost:8080/"
        },
        "id": "j7DfVnmHOMAv",
        "outputId": "50554540-713c-41ef-aee0-5ee2223f1715"
      },
      "source": [
        "model.evaluate(test_generator)"
      ],
      "execution_count": 225,
      "outputs": [
        {
          "output_type": "stream",
          "text": [
            "1/1 [==============================] - 3s 3s/step - loss: 0.4673 - accuracy: 0.9508\n"
          ],
          "name": "stdout"
        },
        {
          "output_type": "execute_result",
          "data": {
            "text/plain": [
              "[0.4673399031162262, 0.9508313536643982]"
            ]
          },
          "metadata": {
            "tags": []
          },
          "execution_count": 225
        }
      ]
    }
  ]
}